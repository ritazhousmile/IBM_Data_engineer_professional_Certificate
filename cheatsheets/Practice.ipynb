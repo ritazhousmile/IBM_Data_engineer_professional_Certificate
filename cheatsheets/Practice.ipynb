{
  "cells": [
    {
      "cell_type": "raw",
      "metadata": {
        "vscode": {
          "languageId": "raw"
        }
      },
      "source": [
        "# 🎮 Practice Notebook\n",
        "\n",
        "**Goal:** Learn Jupyter basics using your pandas cheatsheet\n",
        "\n",
        "## 📚 Instructions:\n",
        "1. Keep your `PandasCheatsheet.ipynb` open in another tab\n",
        "2. Practice the examples here\n",
        "3. Reference the cheatsheet when you need help\n",
        "\n",
        "---\n"
      ]
    },
    {
      "cell_type": "code",
      "execution_count": null,
      "metadata": {},
      "outputs": [
        {
          "ename": "",
          "evalue": "",
          "output_type": "error",
          "traceback": [
            "\u001b[1;31mRunning cells with 'Python 3.13.5' requires the ipykernel package.\n",
            "\u001b[1;31m<a href='command:jupyter.createPythonEnvAndSelectController'>Create a Python Environment</a> with the required packages.\n",
            "\u001b[1;31mOr install 'ipykernel' using the command: '/opt/homebrew/bin/python3 -m pip install ipykernel -U --user --force-reinstall'"
          ]
        }
      ],
      "source": [
        "# 🚀 Step 1: Run this cell (Shift + Enter)\n",
        "# This imports pandas - check your cheatsheet for the same import!\n",
        "\n",
        "import pandas as pd\n",
        "import numpy as np\n",
        "\n",
        "print(\"✅ Pandas imported successfully!\")\n",
        "print(f\"📊 Pandas version: {pd.__version__}\")\n"
      ]
    },
    {
      "cell_type": "code",
      "execution_count": null,
      "metadata": {},
      "outputs": [],
      "source": [
        "# 🎯 Step 2: Create a simple DataFrame\n",
        "# Look at your cheatsheet cells 2-3 for similar examples!\n",
        "\n",
        "data = {\n",
        "    'name': ['Alice', 'Bob', 'Charlie'],\n",
        "    'age': [25, 30, 35],\n",
        "    'city': ['NYC', 'LA', 'Chicago']\n",
        "}\n",
        "\n",
        "df = pd.DataFrame(data)\n",
        "print(\"📋 Your first DataFrame:\")\n",
        "df\n"
      ]
    },
    {
      "cell_type": "code",
      "execution_count": null,
      "metadata": {},
      "outputs": [],
      "source": [
        "# ✍️ Step 3: Try it yourself!\n",
        "# Create your own DataFrame below - add your own data\n",
        "# Use your cheatsheet for reference\n",
        "\n",
        "# your_data = {\n",
        "#     'column1': [...],\n",
        "#     'column2': [...]\n",
        "# }\n",
        "# \n",
        "# my_df = pd.DataFrame(your_data)\n",
        "# my_df\n",
        "\n",
        "print(\"💡 Uncomment the lines above and add your own data!\")\n"
      ]
    }
  ],
  "metadata": {
    "kernelspec": {
      "display_name": "Python 3",
      "language": "python",
      "name": "python3"
    },
    "language_info": {
      "name": "python",
      "version": "3.13.5"
    }
  },
  "nbformat": 4,
  "nbformat_minor": 2
}
